{
 "cells": [
  {
   "cell_type": "markdown",
   "metadata": {},
   "source": [
    "# Gradient Descent Algorithm and comparison to inbuilt OLS Model(Linear Regression)"
   ]
  },
  {
   "cell_type": "code",
   "execution_count": null,
   "metadata": {},
   "outputs": [],
   "source": []
  },
  {
   "cell_type": "markdown",
   "metadata": {},
   "source": [
    "## Gradient Descent Algorithm"
   ]
  },
  {
   "cell_type": "markdown",
   "metadata": {},
   "source": [
    "Gradient Descent is an iterative optimization algorithm to find the minimum of a function."
   ]
  },
  {
   "cell_type": "markdown",
   "metadata": {},
   "source": [
    "The aim of Gradient descent algorithm is to find an optimal line that can represent all the points with least error."
   ]
  },
  {
   "cell_type": "code",
   "execution_count": null,
   "metadata": {},
   "outputs": [],
   "source": []
  },
  {
   "cell_type": "code",
   "execution_count": 19,
   "metadata": {
    "id": "RsOy_ZopGayx"
   },
   "outputs": [],
   "source": [
    "import numpy as np\n",
    "import pandas as pd\n",
    "\n",
    "import seaborn as sns\n",
    "from matplotlib import pyplot as plt\n",
    "\n",
    "from sklearn.linear_model import LinearRegression"
   ]
  },
  {
   "cell_type": "code",
   "execution_count": null,
   "metadata": {},
   "outputs": [],
   "source": []
  },
  {
   "cell_type": "code",
   "execution_count": 2,
   "metadata": {
    "id": "YGr6XLS7uChL"
   },
   "outputs": [],
   "source": [
    "x = np.array([   1,   51,  101,  151,  201,  251,  301,  351,  401,  451,  501,\n",
    "        551,  601,  651,  701,  751,  801,  851,  901,  951, 1001, 1051,\n",
    "       1101, 1151, 1201, 1251, 1301, 1351, 1401, 1451, 1501, 1551, 1601,\n",
    "       1651, 1701, 1751, 1801, 1851, 1901, 1951])\n",
    "\n",
    "Y = np.array([-0.11, 1.51, 0.2, 3.26, 3.38,\n",
    " 2.08, .56, 3.38, 4.16, 3.79, 3.65, 5.54, 6.68,\n",
    " 4.74, 8.13, 7.94, 7.25, 7.91, 6.91, 8.25, 7.39, \n",
    " 7.55, 7.95, 7.9, 8.9, 9.89, 9.81, 8.89, 9.33,\n",
    " 11.74, 11.4, 13.04, 12.32, 10.85,9.89, 13.27,\n",
    " 15.14, 15.03, 13.51, 14.66])"
   ]
  },
  {
   "cell_type": "code",
   "execution_count": null,
   "metadata": {},
   "outputs": [],
   "source": []
  },
  {
   "cell_type": "code",
   "execution_count": 3,
   "metadata": {
    "id": "k9doUfL2uCin",
    "scrolled": true
   },
   "outputs": [
    {
     "name": "stdout",
     "output_type": "stream",
     "text": [
      "a_in: 1.9975614229375 b_in: 6.7877113791875\n",
      "a_in: 1.9959066449081226 b_in: 4.607934026404616\n",
      "a_in: 1.9947837329665188 b_in: 3.1287925579501477\n",
      "a_in: 1.9940217318239457 b_in: 2.125084779769538\n",
      "a_in: 1.993504635569749 b_in: 1.4439942110458541\n",
      "a_in: 1.993153725543595 b_in: 0.9818234748183086\n",
      "a_in: 1.992915585264808 b_in: 0.6682061686474324\n",
      "a_in: 1.9927539676682617 b_in: 0.45539344162308465\n",
      "a_in: 1.9926442764175138 b_in: 0.31098413802041325\n",
      "a_in: 1.9925698210642677 b_in: 0.21299165769522152\n",
      "a_in: 1.992519275894835 b_in: 0.14649645302378084\n",
      "a_in: 1.9924849555679782 b_in: 0.10137449847068047\n",
      "a_in: 1.9924616450066124 b_in: 0.0707558878144588\n",
      "a_in: 1.9924458053920744 b_in: 0.04997887743084281\n",
      "a_in: 1.99243503537203 b_in: 0.035880126668899136\n",
      "a_in: 1.9924277054498638 b_in: 0.026313073023185786\n",
      "a_in: 1.9924227098906198 b_in: 0.01982111377581027\n",
      "a_in: 1.992419298370681 b_in: 0.0154158353714287\n",
      "a_in: 1.9924169617395258 b_in: 0.01242652551190594\n",
      "a_in: 1.9924153545005605 b_in: 0.01039805589144575\n",
      "a_in: 1.9924142422085844 b_in: 0.00902158801802569\n",
      "a_in: 1.9924134657750474 b_in: 0.008087551946335885\n",
      "a_in: 1.9924129172465062 b_in: 0.007453738841947775\n",
      "a_in: 1.9924125233684995 b_in: 0.0070236494069318535\n",
      "a_in: 1.9924122344324133 b_in: 0.006731801672194517\n",
      "a_in: 1.9924120167072468 b_in: 0.006533761239057467\n",
      "a_in: 1.9924118473040002 b_in: 0.006399376054776543\n",
      "a_in: 1.992411710690781 b_in: 0.006308185703283803\n",
      "a_in: 1.9924115963280418 b_in: 0.00624630626665083\n",
      "a_in: 1.9924114970639135 b_in: 0.006204316471311978\n",
      "a_in: 1.9924114080453204 b_in: 0.0061758232806578125\n",
      "a_in: 1.9924113259790879 b_in: 0.006156488542653497\n",
      "a_in: 1.992411248630552 b_in: 0.006143368497670064\n",
      "a_in: 1.9924111744833264 b_in: 0.0061344655852984846\n"
     ]
    }
   ],
   "source": [
    "\n",
    "# Fix the initial values of the parameters\n",
    "a_in= 2\n",
    "b_in= 10\n",
    "\n",
    "# Appending the initial values of intercept and coefficient into arrays to check \n",
    "# if optimal values have been reached (One of the exit conditions of Gradient Descent)\n",
    "list_a=[a_in]\n",
    "list_b=[b_in]\n",
    "\n",
    "# Fix learning rate and error rate\n",
    "learning_rate=0.00001\n",
    "error_rate=0.00001\n",
    "\n",
    "N=len(x)\n",
    "\n",
    "# Cost Function\n",
    "def cost(a,b):\n",
    "    return (np.square(Y-(a+(b*x)))/N).sum()\n",
    "\n",
    "# Derivative of cost funtion w.r.t coefficient\n",
    "def cost_der_a(a,b,Y,x):\n",
    "    return ((-(Y-(a+(b*x)))).sum())/N\n",
    "\n",
    "# Derivative of cost funtion w.r.t intercept\n",
    "def cost_der_b(a,b,Y,x):\n",
    "    return (((-(Y-(a+(b*x))))*x).sum())/N\n",
    "\n",
    "error_a=0.1\n",
    "error_b=0.1\n",
    "i=0\n",
    "\n",
    "\n",
    "# Tuning the values of intercept and coefficient inorder to find a best fit line such that the cost function is minimal\n",
    "\n",
    "while np.abs(error_a)>error_rate or np.abs(error_b)>error_rate : \n",
    "    \n",
    "    A=cost_der_a(list_a[i],list_b[i],Y,x)\n",
    "    B=cost_der_b(list_a[i],list_b[i],Y,x)\n",
    "    a_in=a_in - (learning_rate*A)/N\n",
    "    b_in=b_in - (learning_rate*B)/N\n",
    "    list_a.append(a_in)\n",
    "    list_b.append(b_in)\n",
    "    error_a=list_a[i+1]-list_a[i]\n",
    "    error_b=list_b[i+1]-list_b[i]\n",
    "    i=i+1\n",
    "    print('a_in:',a_in,'b_in:',b_in)\n",
    "    continue"
   ]
  },
  {
   "cell_type": "code",
   "execution_count": null,
   "metadata": {},
   "outputs": [],
   "source": []
  },
  {
   "cell_type": "code",
   "execution_count": 4,
   "metadata": {
    "scrolled": true
   },
   "outputs": [
    {
     "name": "stdout",
     "output_type": "stream",
     "text": [
      "1.9924111744833264 0.0061344655852984846\n"
     ]
    }
   ],
   "source": [
    "print(a_in,b_in)"
   ]
  },
  {
   "cell_type": "code",
   "execution_count": null,
   "metadata": {},
   "outputs": [],
   "source": []
  },
  {
   "cell_type": "code",
   "execution_count": 5,
   "metadata": {},
   "outputs": [
    {
     "data": {
      "image/png": "[encoded data removed]",
      "text/plain": [
       "<Figure size 1080x576 with 1 Axes>"
      ]
     },
     "metadata": {
      "needs_background": "light"
     },
     "output_type": "display_data"
    }
   ],
   "source": [
    "#Ploting the best fit line\n",
    "\n",
    "plt.figure(figsize=(15,8))\n",
    "\n",
    "plt.scatter(x,Y,label='Observed')\n",
    "plt.plot(x,(a_in+b_in*x),color='r',label='Predicted')\n",
    "plt.xlabel('X')\n",
    "plt.ylabel('Y')\n",
    "plt.title('Linear Regression')\n",
    "plt.show()"
   ]
  },
  {
   "cell_type": "code",
   "execution_count": null,
   "metadata": {},
   "outputs": [],
   "source": []
  },
  {
   "cell_type": "markdown",
   "metadata": {},
   "source": [
    "## Linear Regresion with stats models"
   ]
  },
  {
   "cell_type": "markdown",
   "metadata": {},
   "source": [
    "Linear Regression is an approach of modeling a linear Relationship between a target variable/dependent variable and one or more independent variables."
   ]
  },
  {
   "cell_type": "code",
   "execution_count": null,
   "metadata": {},
   "outputs": [],
   "source": []
  },
  {
   "cell_type": "code",
   "execution_count": 6,
   "metadata": {},
   "outputs": [],
   "source": [
    "X=pd.DataFrame(x)"
   ]
  },
  {
   "cell_type": "code",
   "execution_count": 7,
   "metadata": {},
   "outputs": [],
   "source": [
    "y=pd.DataFrame(Y)"
   ]
  },
  {
   "cell_type": "code",
   "execution_count": 9,
   "metadata": {},
   "outputs": [],
   "source": [
    "import statsmodels.api as sm"
   ]
  },
  {
   "cell_type": "code",
   "execution_count": 12,
   "metadata": {},
   "outputs": [
    {
     "name": "stdout",
     "output_type": "stream",
     "text": [
      "                            OLS Regression Results                            \n",
      "==============================================================================\n",
      "Dep. Variable:                      0   R-squared:                       0.925\n",
      "Model:                            OLS   Adj. R-squared:                  0.923\n",
      "Method:                 Least Squares   F-statistic:                     466.6\n",
      "Date:                Sun, 25 Apr 2021   Prob (F-statistic):           6.09e-23\n",
      "Time:                        16:27:28   Log-Likelihood:                -61.906\n",
      "No. Observations:                  40   AIC:                             127.8\n",
      "Df Residuals:                      38   BIC:                             131.2\n",
      "Df Model:                           1                                         \n",
      "Covariance Type:            nonrobust                                         \n",
      "==============================================================================\n",
      "                 coef    std err          t      P>|t|      [0.025      0.975]\n",
      "------------------------------------------------------------------------------\n",
      "const          0.9521      0.362      2.627      0.012       0.218       1.686\n",
      "0              0.0069      0.000     21.602      0.000       0.006       0.008\n",
      "==============================================================================\n",
      "Omnibus:                        0.474   Durbin-Watson:                   1.536\n",
      "Prob(Omnibus):                  0.789   Jarque-Bera (JB):                0.416\n",
      "Skew:                          -0.231   Prob(JB):                        0.812\n",
      "Kurtosis:                       2.809   Cond. No.                     2.23e+03\n",
      "==============================================================================\n",
      "\n",
      "Warnings:\n",
      "[1] Standard Errors assume that the covariance matrix of the errors is correctly specified.\n",
      "[2] The condition number is large, 2.23e+03. This might indicate that there are\n",
      "strong multicollinearity or other numerical problems.\n"
     ]
    }
   ],
   "source": [
    "X=sm.add_constant(X)\n",
    "lr=sm.OLS(y,X).fit()\n",
    "print(lr.summary())"
   ]
  },
  {
   "cell_type": "code",
   "execution_count": null,
   "metadata": {},
   "outputs": [],
   "source": []
  },
  {
   "cell_type": "code",
   "execution_count": 14,
   "metadata": {},
   "outputs": [
    {
     "name": "stdout",
     "output_type": "stream",
     "text": [
      "0.952057992495312 0.006905422138836773\n"
     ]
    }
   ],
   "source": [
    "a_in,b_in=lr.params\n",
    "\n",
    "print(a_in,b_in)"
   ]
  },
  {
   "cell_type": "code",
   "execution_count": null,
   "metadata": {},
   "outputs": [],
   "source": []
  },
  {
   "cell_type": "code",
   "execution_count": 15,
   "metadata": {},
   "outputs": [
    {
     "data": {
      "image/png": "[encoded data removed]",
      "text/plain": [
       "<Figure size 1080x576 with 1 Axes>"
      ]
     },
     "metadata": {
      "needs_background": "light"
     },
     "output_type": "display_data"
    }
   ],
   "source": [
    "#Ploting the best fit line\n",
    "\n",
    "plt.figure(figsize=(15,8))\n",
    "\n",
    "plt.scatter(x,Y,label='Observed')\n",
    "plt.plot(x,(a_in+b_in*x),color='r',label='Predicted')\n",
    "plt.xlabel('X')\n",
    "plt.ylabel('Y')\n",
    "plt.title('Linear Regression')\n",
    "plt.show()"
   ]
  },
  {
   "cell_type": "code",
   "execution_count": null,
   "metadata": {},
   "outputs": [],
   "source": []
  },
  {
   "cell_type": "markdown",
   "metadata": {},
   "source": [
    "## Linear Regression with Sklearn"
   ]
  },
  {
   "cell_type": "code",
   "execution_count": null,
   "metadata": {},
   "outputs": [],
   "source": []
  },
  {
   "cell_type": "code",
   "execution_count": 16,
   "metadata": {},
   "outputs": [
    {
     "data": {
      "text/plain": [
       "LinearRegression()"
      ]
     },
     "execution_count": 16,
     "metadata": {},
     "output_type": "execute_result"
    }
   ],
   "source": [
    "linearmodel=LinearRegression()\n",
    "linearmodel.fit(X,y)\n"
   ]
  },
  {
   "cell_type": "code",
   "execution_count": 22,
   "metadata": {},
   "outputs": [
    {
     "data": {
      "text/plain": [
       "0.006905422138836773"
      ]
     },
     "execution_count": 22,
     "metadata": {},
     "output_type": "execute_result"
    }
   ],
   "source": [
    "# Coefficient Value\n",
    "linearmodel.coef_[0][1]"
   ]
  },
  {
   "cell_type": "code",
   "execution_count": 18,
   "metadata": {},
   "outputs": [
    {
     "data": {
      "text/plain": [
       "array([0.95205799])"
      ]
     },
     "execution_count": 18,
     "metadata": {},
     "output_type": "execute_result"
    }
   ],
   "source": [
    "# Intercept Value\n",
    "linearmodel.intercept_"
   ]
  },
  {
   "cell_type": "code",
   "execution_count": 25,
   "metadata": {},
   "outputs": [],
   "source": [
    "a_in,b_in=linearmodel.intercept_,linearmodel.coef_[0][1]\n"
   ]
  },
  {
   "cell_type": "code",
   "execution_count": 26,
   "metadata": {
    "scrolled": true
   },
   "outputs": [
    {
     "data": {
      "image/png": "[encoded data removed]",
      "text/plain": [
       "<Figure size 1080x576 with 1 Axes>"
      ]
     },
     "metadata": {
      "needs_background": "light"
     },
     "output_type": "display_data"
    }
   ],
   "source": [
    "#Ploting the best fit line\n",
    "\n",
    "plt.figure(figsize=(15,8))\n",
    "\n",
    "plt.scatter(x,Y,label='Observed')\n",
    "plt.plot(x,(a_in+b_in*x),color='r',label='Predicted')\n",
    "plt.xlabel('X')\n",
    "plt.ylabel('Y')\n",
    "plt.title('Linear Regression')\n",
    "plt.show()"
   ]
  },
  {
   "cell_type": "code",
   "execution_count": null,
   "metadata": {},
   "outputs": [],
   "source": []
  },
  {
   "cell_type": "markdown",
   "metadata": {},
   "source": [
    "Note : Linear Regression and OLS provided very similar results. The main advantage of using OLS module is that an inbuilt summary report can be obtained using the summary function."
   ]
  },
  {
   "cell_type": "code",
   "execution_count": null,
   "metadata": {},
   "outputs": [],
   "source": []
  },
  {
   "cell_type": "code",
   "execution_count": null,
   "metadata": {},
   "outputs": [],
   "source": []
  },
  {
   "cell_type": "markdown",
   "metadata": {},
   "source": [
    "Note: The small difference in the coefficient and intercept values of Gradient descent algorithm and OLS model are because of the predifined initial values and a constraint set on the number of iterations.\n",
    "\n",
    "On tuning the initial parameters the results can be made more identical.\n",
    "    \n",
    "    \n"
   ]
  }
 ],
 "metadata": {
  "colab": {
   "collapsed_sections": [],
   "name": "MTech_MF_Set3_Questions (1).ipynb",
   "provenance": [],
   "toc_visible": true
  },
  "kernelspec": {
   "display_name": "Python 3",
   "language": "python",
   "name": "python3"
  },
  "language_info": {
   "codemirror_mode": {
    "name": "ipython",
    "version": 3
   },
   "file_extension": ".py",
   "mimetype": "text/x-python",
   "name": "python",
   "nbconvert_exporter": "python",
   "pygments_lexer": "ipython3",
   "version": "3.7.6"
  }
 },
 "nbformat": 4,
 "nbformat_minor": 1
}
